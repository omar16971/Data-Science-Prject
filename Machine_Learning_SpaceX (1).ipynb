{
 "cells": [
  {
   "cell_type": "markdown",
   "id": "78d32f54",
   "metadata": {},
   "source": [
    "## Machine Leaning "
   ]
  },
  {
   "cell_type": "markdown",
   "id": "5ae68411",
   "metadata": {},
   "source": [
    "**Objectives**\n",
    "* Perform exploratory Data Analysis and determine Training Labels\n",
    "\n",
    "* create a column for the class\n",
    "* Standardize the data\n",
    "* Split into training data and test data\n",
    "- Find best Hyperparameter for SVM, Classification Trees and Logistic Regression\n",
    "\n",
    "* Find the method performs best using test data"
   ]
  },
  {
   "cell_type": "code",
   "execution_count": 1,
   "id": "9b4731bf",
   "metadata": {},
   "outputs": [],
   "source": [
    "# Pandas is a software library written for the Python programming language for data manipulation and analysis.\n",
    "import pandas as pd\n",
    "# NumPy is a library for the Python programming language, adding support for large, multi-dimensional arrays and matrices, along with a large collection of high-level mathematical functions to operate on these arrays\n",
    "import numpy as np\n",
    "# Matplotlib is a plotting library for python and pyplot gives us a MatLab like plotting framework. We will use this in our plotter function to plot data.\n",
    "import matplotlib.pyplot as plt\n",
    "#Seaborn is a Python data visualization library based on matplotlib. It provides a high-level interface for drawing attractive and informative statistical graphics\n",
    "import seaborn as sns\n",
    "# Preprocessing allows us to standarsize our data\n",
    "from sklearn import preprocessing\n",
    "# Allows us to split our data into training and testing data\n",
    "from sklearn.model_selection import train_test_split\n",
    "# Allows us to test parameters of classification algorithms and find the best one\n",
    "from sklearn.model_selection import GridSearchCV\n",
    "# Logistic Regression classification algorithm\n",
    "from sklearn.linear_model import LogisticRegression\n",
    "# Support Vector Machine classification algorithm\n",
    "from sklearn.svm import SVC\n",
    "# Decision Tree classification algorithm\n",
    "from sklearn.tree import DecisionTreeClassifier\n",
    "# K Nearest Neighbors classification algorithm\n",
    "from sklearn.neighbors import KNeighborsClassifier"
   ]
  },
  {
   "cell_type": "code",
   "execution_count": null,
   "id": "d52f663b",
   "metadata": {},
   "outputs": [],
   "source": [
    "# Create the basis for a confusion matrix\n",
    "def plot_confusion_matrix(y,y_predict):\n",
    "    \"this function plots the confusion matrix\"\n",
    "    from sklearn.metrics import confusion_matrix\n",
    "\n",
    "    cm = confusion_matrix(y, y_predict)\n",
    "    ax= plt.subplot()\n",
    "    sns.heatmap(cm, annot=True, ax = ax); #annot=True to annotate cells\n",
    "    ax.set_xlabel('Predicted labels')\n",
    "    ax.set_ylabel('True labels')\n",
    "    ax.set_title('Confusion Matrix'); \n",
    "    ax.xaxis.set_ticklabels(['did not land', 'land']); ax.yaxis.set_ticklabels(['did not land', 'landed']) \n",
    "    plt.show() "
   ]
  },
  {
   "cell_type": "code",
   "execution_count": null,
   "id": "ae909b60",
   "metadata": {},
   "outputs": [],
   "source": [
    "# Load the data\n",
    "from js import fetch\n",
    "import io\n",
    "\n",
    "URL1 = \"https://cf-courses-data.s3.us.cloud-object-storage.appdomain.cloud/IBM-DS0321EN-SkillsNetwork/datasets/dataset_part_2.csv\"\n",
    "resp1 = await fetch(URL1)\n",
    "text1 = io.BytesIO((await resp1.arrayBuffer()).to_py())\n",
    "data = pd.read_csv(text1)\n",
    "data.head()"
   ]
  },
  {
   "cell_type": "code",
   "execution_count": null,
   "id": "b7638e62",
   "metadata": {},
   "outputs": [],
   "source": [
    "URL2 = 'https://cf-courses-data.s3.us.cloud-object-storage.appdomain.cloud/IBM-DS0321EN-SkillsNetwork/datasets/dataset_part_3.csv'\n",
    "resp2 = await fetch(URL2)\n",
    "text2 = io.BytesIO((await resp2.arrayBuffer()).to_py())\n",
    "X = pd.read_csv(text2)\n",
    "X.head(100)"
   ]
  },
  {
   "cell_type": "code",
   "execution_count": null,
   "id": "ae5d87b0",
   "metadata": {},
   "outputs": [],
   "source": [
    "# Create a numpy array from the column class in data, by applying the method to_numpy()\n",
    "Y = data['Class'].to_numpy()\n",
    "Y"
   ]
  },
  {
   "cell_type": "code",
   "execution_count": null,
   "id": "4d47e5e0",
   "metadata": {},
   "outputs": [],
   "source": [
    "# Standardize the data in X then reassign it to the variable X\n",
    "transform = preprocessing.StandardScaler()\n",
    "X = transform.fit_transform(X)\n",
    "X"
   ]
  },
  {
   "cell_type": "code",
   "execution_count": null,
   "id": "9ab5f7cc",
   "metadata": {},
   "outputs": [],
   "source": [
    "# Split into training and testing sets\n",
    "X_train, X_test, Y_train, Y_test = train_test_split(X, Y, test_size = 0.2, random_state = 2)\n",
    "Y_test.shape"
   ]
  },
  {
   "cell_type": "markdown",
   "id": "3e06876e",
   "metadata": {},
   "source": [
    "### Logistic Regression Method"
   ]
  },
  {
   "cell_type": "code",
   "execution_count": null,
   "id": "9518dc5c",
   "metadata": {},
   "outputs": [],
   "source": [
    "# Create a logistic regression object then create a GridSearchCV object\n",
    "parameters ={'C':[0.01,0.1,1],\n",
    "             'penalty':['l2'],\n",
    "             'solver':['lbfgs']}\n"
   ]
  },
  {
   "cell_type": "code",
   "execution_count": null,
   "id": "debd0f9c",
   "metadata": {},
   "outputs": [],
   "source": [
    "parameters ={\"C\":[0.01,0.1,1],'penalty':['l2'], 'solver':['lbfgs']}# l1 lasso l2 ridge\n",
    "lr=LogisticRegression()\n",
    "\n",
    "logreg_cv = GridSearchCV(lr, parameters, cv = 10)\n",
    "\n",
    "logreg_cv.fit(X_train, Y_train)\n",
    "\n",
    "# output the GridSearchCV object for logistic regression\n",
    "# display the best parameters using the data attribute best_params_\n",
    "# the accuracy on the validation data using the data attribute best_score_\n",
    "print(\"tuned hpyerparameters :(best parameters) \",logreg_cv.best_params_)\n",
    "print(\"accuracy :\",logreg_cv.best_score_)"
   ]
  },
  {
   "cell_type": "code",
   "execution_count": null,
   "id": "bf0f7777",
   "metadata": {},
   "outputs": [],
   "source": [
    "# Calculate the accuracy on the test data using the method score:\n",
    "logreg_cv.score(X_test, Y_test)"
   ]
  },
  {
   "cell_type": "code",
   "execution_count": null,
   "id": "bd2ae109",
   "metadata": {},
   "outputs": [],
   "source": [
    "# plot the confusion matrix\n",
    "yhat=logreg_cv.predict(X_test)\n",
    "plot_confusion_matrix(Y_test,yhat)"
   ]
  },
  {
   "cell_type": "markdown",
   "id": "a5960411",
   "metadata": {},
   "source": [
    "### SVM Method"
   ]
  },
  {
   "cell_type": "code",
   "execution_count": null,
   "id": "3c8d024f",
   "metadata": {},
   "outputs": [],
   "source": [
    "parameters = {'kernel':('linear', 'rbf','poly','rbf', 'sigmoid'),\n",
    "              'C': np.logspace(-3, 3, 5),\n",
    "              'gamma':np.logspace(-3, 3, 5)}\n",
    "svm = SVC()"
   ]
  },
  {
   "cell_type": "code",
   "execution_count": null,
   "id": "2e9d76cc",
   "metadata": {},
   "outputs": [],
   "source": [
    "\n",
    "svm_cv = GridSearchCV(svm, parameters, cv = 10)\n",
    "svm_cv.fit(X_train, Y_train)\n",
    "# output the GridSearchCV object for SVM\n",
    "# display the best parameters using the data attribute best_params_\n",
    "# the accuracy on the validation data using the data attribute best_score_\n",
    "print(\"tuned hpyerparameters :(best parameters) \",svm_cv.best_params_)\n",
    "print(\"accuracy :\",svm_cv.best_score_)"
   ]
  },
  {
   "cell_type": "code",
   "execution_count": null,
   "id": "391c598d",
   "metadata": {},
   "outputs": [],
   "source": [
    "# Calculate the accuracy on the test data using the method score:\n",
    "svm_cv.score(X_test, Y_test)"
   ]
  },
  {
   "cell_type": "code",
   "execution_count": null,
   "id": "13d02d48",
   "metadata": {},
   "outputs": [],
   "source": [
    "# plot the confusion matrix\n",
    "yhat=svm_cv.predict(X_test)\n",
    "plot_confusion_matrix(Y_test,yhat)"
   ]
  },
  {
   "cell_type": "markdown",
   "id": "c61ed812",
   "metadata": {},
   "source": [
    "### Decision Tree Classifier Method"
   ]
  },
  {
   "cell_type": "code",
   "execution_count": null,
   "id": "e78ca349",
   "metadata": {},
   "outputs": [],
   "source": [
    "Parameters = {'criterion': ['gini', 'entropy'],\n",
    "     'splitter': ['best', 'random'],\n",
    "     'max_depth': [2*n for n in range(1,10)],\n",
    "     'max_features': ['auto', 'sqrt'],\n",
    "     'min_samples_leaf': [1, 2, 4],\n",
    "     'min_samples_split': [2, 5, 10]}\n",
    "\n",
    "tree = DecisionTreeClassifier()"
   ]
  },
  {
   "cell_type": "code",
   "execution_count": null,
   "id": "9b5f73a3",
   "metadata": {},
   "outputs": [],
   "source": [
    "# Instantiate the GridSearchCV object: tree_cv\n",
    "tree_cv = GridSearchCV(tree, Parameters, cv=10)\n",
    "\n",
    "# Fit it to the data\n",
    "tree_cv.fit(X_train, Y_train)\n",
    "# output the GridSearchCV object for decision tree\n",
    "# display the best parameters using the data attribute best_params_\n",
    "# the accuracy on the validation data using the data attribute best_score_\n",
    "print(\"tuned hpyerparameters :(best parameters) \",tree_cv.best_params_)\n",
    "print(\"accuracy :\",tree_cv.best_score_)"
   ]
  },
  {
   "cell_type": "code",
   "execution_count": null,
   "id": "39419e42",
   "metadata": {},
   "outputs": [],
   "source": [
    "# Calculate the accuracy on the test data using the method score:\n",
    "tree_cv.score(X_test, Y_test)"
   ]
  },
  {
   "cell_type": "code",
   "execution_count": null,
   "id": "3c8bba04",
   "metadata": {},
   "outputs": [],
   "source": [
    "# Plot the confussion matrix\n",
    "yhat = tree_cv.predict(X_test)\n",
    "plot_confusion_matrix(Y_test,yhat)"
   ]
  },
  {
   "cell_type": "markdown",
   "id": "aab0d0b2",
   "metadata": {},
   "source": [
    "### KNN Method"
   ]
  },
  {
   "cell_type": "code",
   "execution_count": null,
   "id": "522d7c87",
   "metadata": {},
   "outputs": [],
   "source": [
    "parameters = {'n_neighbors': [1, 2, 3, 4, 5, 6, 7, 8, 9, 10],\n",
    "              'algorithm': ['auto', 'ball_tree', 'kd_tree', 'brute'],\n",
    "              'p': [1,2]}\n",
    "\n",
    "KNN = KNeighborsClassifier()"
   ]
  },
  {
   "cell_type": "code",
   "execution_count": null,
   "id": "d987ef3b",
   "metadata": {},
   "outputs": [],
   "source": [
    "# Instantiate the GridSearchCV object: knn_cv\n",
    "knn_cv = GridSearchCV(KNN, parameters, cv = 10)\n",
    "\n",
    "knn_cv.fit(X_train, Y_train)\n",
    "\n",
    "# output the GridSearchCV object for k-nearest neighbor\n",
    "# display the best parameters using the data attribute best_params_\n",
    "# the accuracy on the validation data using the data attribute best_score_\n",
    "print(\"tuned hpyerparameters :(best parameters) \",knn_cv.best_params_)\n",
    "print(\"accuracy :\",knn_cv.best_score_)"
   ]
  },
  {
   "cell_type": "code",
   "execution_count": null,
   "id": "3b6ba167",
   "metadata": {},
   "outputs": [],
   "source": [
    "# Calculate the accuracy on the test data using the method score:\n",
    "knn_cv.score(X_test, Y_test)"
   ]
  },
  {
   "cell_type": "code",
   "execution_count": null,
   "id": "6782072e",
   "metadata": {},
   "outputs": [],
   "source": [
    "# plot the confusion matrix\n",
    "yhat = knn_cv.predict(X_test)\n",
    "plot_confusion_matrix(Y_test,yhat)"
   ]
  },
  {
   "cell_type": "code",
   "execution_count": null,
   "id": "889c18cc",
   "metadata": {},
   "outputs": [],
   "source": [
    "# print them all in a table to compare the accuracy\n",
    "predictors = [knn_cv, svm_cv, logreg_cv, tree_cv]\n",
    "best_predictor = \"\"\n",
    "best_result = 0\n",
    "results = []\n",
    "for predictor in predictors:    \n",
    "    score = predictor.score(X_test, Y_test)\n",
    "    results.append([str(predictor), score])\n",
    "\n",
    "results_df = pd.DataFrame(results, columns=['Predictors'])\n",
    "print(results_df)"
   ]
  }
 ],
 "metadata": {
  "kernelspec": {
   "display_name": "Python 3 (ipykernel)",
   "language": "python",
   "name": "python3"
  },
  "language_info": {
   "codemirror_mode": {
    "name": "ipython",
    "version": 3
   },
   "file_extension": ".py",
   "mimetype": "text/x-python",
   "name": "python",
   "nbconvert_exporter": "python",
   "pygments_lexer": "ipython3",
   "version": "3.11.5"
  }
 },
 "nbformat": 4,
 "nbformat_minor": 5
}
